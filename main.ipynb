{
 "cells": [
  {
   "cell_type": "code",
   "execution_count": null,
   "id": "03335543",
   "metadata": {},
   "outputs": [],
   "source": [
    "import argparse\n",
    "import os\n",
    "import numpy as np\n",
    "from tqdm import tqdm \n",
    "import tensorflow as tf\n",
    "import time\n",
    "\n",
    "from configs import ParseParams\n",
    "\n",
    "from shared.decode_step import RNNDecodeStep\n",
    "from model.attention_agent import RLAgent\n",
    "\n",
    "from tools import *\n"
   ]
  },
  {
   "cell_type": "markdown",
   "id": "bd69a84f",
   "metadata": {},
   "source": [
    "RL train"
   ]
  },
  {
   "cell_type": "code",
   "execution_count": null,
   "id": "bc4be768",
   "metadata": {
    "scrolled": true
   },
   "outputs": [],
   "source": [
    "args, prt = ParseParams()\n",
    "\n",
    "A,B,G,F = 0.6, 0.2, 0.2, 0.5\n",
    "random_seed = args['random_seed']\n",
    "if random_seed is not None and random_seed > 0:\n",
    "    prt.print_out(\"# Set random seed to %d\" % random_seed)\n",
    "    np.random.seed(random_seed)\n",
    "    tf.set_random_seed(random_seed)\n",
    "tf.reset_default_graph()\n",
    "# args['task'] change as config\n",
    "args['input_dim'] = 19 + args['n_nodes']\n",
    "main(args, prt, A,B,G,F)"
   ]
  },
  {
   "cell_type": "code",
   "execution_count": null,
   "id": "b97d9db2",
   "metadata": {},
   "outputs": [],
   "source": []
  }
 ],
 "metadata": {
  "kernelspec": {
   "display_name": "Python 3 (ipykernel)",
   "language": "python",
   "name": "python3"
  },
  "language_info": {
   "codemirror_mode": {
    "name": "ipython",
    "version": 3
   },
   "file_extension": ".py",
   "mimetype": "text/x-python",
   "name": "python",
   "nbconvert_exporter": "python",
   "pygments_lexer": "ipython3",
   "version": "3.9.13"
  }
 },
 "nbformat": 4,
 "nbformat_minor": 5
}
